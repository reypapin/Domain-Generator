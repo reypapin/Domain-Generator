{
  "nbformat": 4,
  "nbformat_minor": 0,
  "metadata": {
    "colab": {
      "provenance": [],
      "gpuType": "T4",
      "authorship_tag": "ABX9TyOHwY4KGkSfR4WgihTEESV7",
      "include_colab_link": true
    },
    "kernelspec": {
      "name": "python3",
      "display_name": "Python 3"
    },
    "language_info": {
      "name": "python"
    },
    "accelerator": "GPU"
  },
  "cells": [
    {
      "cell_type": "markdown",
      "metadata": {
        "id": "view-in-github",
        "colab_type": "text"
      },
      "source": [
        "<a href=\"https://colab.research.google.com/github/reypapin/Generador-de-Dominios/blob/main/Generation.ipynb\" target=\"_parent\"><img src=\"https://colab.research.google.com/assets/colab-badge.svg\" alt=\"Open In Colab\"/></a>"
      ]
    },
    {
      "cell_type": "code",
      "execution_count": 2,
      "metadata": {
        "colab": {
          "base_uri": "https://localhost:8080/",
          "height": 78
        },
        "id": "y7-zkm-pzXEK",
        "outputId": "0907a492-6a1a-4e13-a9f8-ec36573531ad"
      },
      "outputs": [
        {
          "output_type": "display_data",
          "data": {
            "text/plain": [
              "<IPython.core.display.HTML object>"
            ],
            "text/html": [
              "\n",
              "     <input type=\"file\" id=\"files-99547f0f-8633-4dcc-aedc-d7024095e6b7\" name=\"files[]\" multiple disabled\n",
              "        style=\"border:none\" />\n",
              "     <output id=\"result-99547f0f-8633-4dcc-aedc-d7024095e6b7\">\n",
              "      Upload widget is only available when the cell has been executed in the\n",
              "      current browser session. Please rerun this cell to enable.\n",
              "      </output>\n",
              "      <script>// Copyright 2017 Google LLC\n",
              "//\n",
              "// Licensed under the Apache License, Version 2.0 (the \"License\");\n",
              "// you may not use this file except in compliance with the License.\n",
              "// You may obtain a copy of the License at\n",
              "//\n",
              "//      http://www.apache.org/licenses/LICENSE-2.0\n",
              "//\n",
              "// Unless required by applicable law or agreed to in writing, software\n",
              "// distributed under the License is distributed on an \"AS IS\" BASIS,\n",
              "// WITHOUT WARRANTIES OR CONDITIONS OF ANY KIND, either express or implied.\n",
              "// See the License for the specific language governing permissions and\n",
              "// limitations under the License.\n",
              "\n",
              "/**\n",
              " * @fileoverview Helpers for google.colab Python module.\n",
              " */\n",
              "(function(scope) {\n",
              "function span(text, styleAttributes = {}) {\n",
              "  const element = document.createElement('span');\n",
              "  element.textContent = text;\n",
              "  for (const key of Object.keys(styleAttributes)) {\n",
              "    element.style[key] = styleAttributes[key];\n",
              "  }\n",
              "  return element;\n",
              "}\n",
              "\n",
              "// Max number of bytes which will be uploaded at a time.\n",
              "const MAX_PAYLOAD_SIZE = 100 * 1024;\n",
              "\n",
              "function _uploadFiles(inputId, outputId) {\n",
              "  const steps = uploadFilesStep(inputId, outputId);\n",
              "  const outputElement = document.getElementById(outputId);\n",
              "  // Cache steps on the outputElement to make it available for the next call\n",
              "  // to uploadFilesContinue from Python.\n",
              "  outputElement.steps = steps;\n",
              "\n",
              "  return _uploadFilesContinue(outputId);\n",
              "}\n",
              "\n",
              "// This is roughly an async generator (not supported in the browser yet),\n",
              "// where there are multiple asynchronous steps and the Python side is going\n",
              "// to poll for completion of each step.\n",
              "// This uses a Promise to block the python side on completion of each step,\n",
              "// then passes the result of the previous step as the input to the next step.\n",
              "function _uploadFilesContinue(outputId) {\n",
              "  const outputElement = document.getElementById(outputId);\n",
              "  const steps = outputElement.steps;\n",
              "\n",
              "  const next = steps.next(outputElement.lastPromiseValue);\n",
              "  return Promise.resolve(next.value.promise).then((value) => {\n",
              "    // Cache the last promise value to make it available to the next\n",
              "    // step of the generator.\n",
              "    outputElement.lastPromiseValue = value;\n",
              "    return next.value.response;\n",
              "  });\n",
              "}\n",
              "\n",
              "/**\n",
              " * Generator function which is called between each async step of the upload\n",
              " * process.\n",
              " * @param {string} inputId Element ID of the input file picker element.\n",
              " * @param {string} outputId Element ID of the output display.\n",
              " * @return {!Iterable<!Object>} Iterable of next steps.\n",
              " */\n",
              "function* uploadFilesStep(inputId, outputId) {\n",
              "  const inputElement = document.getElementById(inputId);\n",
              "  inputElement.disabled = false;\n",
              "\n",
              "  const outputElement = document.getElementById(outputId);\n",
              "  outputElement.innerHTML = '';\n",
              "\n",
              "  const pickedPromise = new Promise((resolve) => {\n",
              "    inputElement.addEventListener('change', (e) => {\n",
              "      resolve(e.target.files);\n",
              "    });\n",
              "  });\n",
              "\n",
              "  const cancel = document.createElement('button');\n",
              "  inputElement.parentElement.appendChild(cancel);\n",
              "  cancel.textContent = 'Cancel upload';\n",
              "  const cancelPromise = new Promise((resolve) => {\n",
              "    cancel.onclick = () => {\n",
              "      resolve(null);\n",
              "    };\n",
              "  });\n",
              "\n",
              "  // Wait for the user to pick the files.\n",
              "  const files = yield {\n",
              "    promise: Promise.race([pickedPromise, cancelPromise]),\n",
              "    response: {\n",
              "      action: 'starting',\n",
              "    }\n",
              "  };\n",
              "\n",
              "  cancel.remove();\n",
              "\n",
              "  // Disable the input element since further picks are not allowed.\n",
              "  inputElement.disabled = true;\n",
              "\n",
              "  if (!files) {\n",
              "    return {\n",
              "      response: {\n",
              "        action: 'complete',\n",
              "      }\n",
              "    };\n",
              "  }\n",
              "\n",
              "  for (const file of files) {\n",
              "    const li = document.createElement('li');\n",
              "    li.append(span(file.name, {fontWeight: 'bold'}));\n",
              "    li.append(span(\n",
              "        `(${file.type || 'n/a'}) - ${file.size} bytes, ` +\n",
              "        `last modified: ${\n",
              "            file.lastModifiedDate ? file.lastModifiedDate.toLocaleDateString() :\n",
              "                                    'n/a'} - `));\n",
              "    const percent = span('0% done');\n",
              "    li.appendChild(percent);\n",
              "\n",
              "    outputElement.appendChild(li);\n",
              "\n",
              "    const fileDataPromise = new Promise((resolve) => {\n",
              "      const reader = new FileReader();\n",
              "      reader.onload = (e) => {\n",
              "        resolve(e.target.result);\n",
              "      };\n",
              "      reader.readAsArrayBuffer(file);\n",
              "    });\n",
              "    // Wait for the data to be ready.\n",
              "    let fileData = yield {\n",
              "      promise: fileDataPromise,\n",
              "      response: {\n",
              "        action: 'continue',\n",
              "      }\n",
              "    };\n",
              "\n",
              "    // Use a chunked sending to avoid message size limits. See b/62115660.\n",
              "    let position = 0;\n",
              "    do {\n",
              "      const length = Math.min(fileData.byteLength - position, MAX_PAYLOAD_SIZE);\n",
              "      const chunk = new Uint8Array(fileData, position, length);\n",
              "      position += length;\n",
              "\n",
              "      const base64 = btoa(String.fromCharCode.apply(null, chunk));\n",
              "      yield {\n",
              "        response: {\n",
              "          action: 'append',\n",
              "          file: file.name,\n",
              "          data: base64,\n",
              "        },\n",
              "      };\n",
              "\n",
              "      let percentDone = fileData.byteLength === 0 ?\n",
              "          100 :\n",
              "          Math.round((position / fileData.byteLength) * 100);\n",
              "      percent.textContent = `${percentDone}% done`;\n",
              "\n",
              "    } while (position < fileData.byteLength);\n",
              "  }\n",
              "\n",
              "  // All done.\n",
              "  yield {\n",
              "    response: {\n",
              "      action: 'complete',\n",
              "    }\n",
              "  };\n",
              "}\n",
              "\n",
              "scope.google = scope.google || {};\n",
              "scope.google.colab = scope.google.colab || {};\n",
              "scope.google.colab._files = {\n",
              "  _uploadFiles,\n",
              "  _uploadFilesContinue,\n",
              "};\n",
              "})(self);\n",
              "</script> "
            ]
          },
          "metadata": {}
        },
        {
          "output_type": "stream",
          "name": "stdout",
          "text": [
            "Saving trained_model_checkpoint.h5 to trained_model_checkpoint (1).h5\n"
          ]
        }
      ],
      "source": [
        "from google.colab import files\n",
        "\n",
        "# Upload the file trained_model_checkpoint.h5 from your local directory\n",
        "uploaded = files.upload()\n"
      ]
    },
    {
      "cell_type": "code",
      "source": [
        "import numpy as np\n",
        "import string\n",
        "from tensorflow.keras.models import load_model\n",
        "\n",
        "# Load the model from the file\n",
        "model = load_model('trained_model_checkpoint.h5')\n",
        "\n",
        "# Seed domain for generating text\n",
        "seed_domain = \"google\"\n",
        "padding_length = 15 - len(seed_domain)\n",
        "sentence = seed_domain + \" \" * padding_length\n",
        "\n",
        "generated = \"\"\n",
        "maxlen=15\n",
        "\n",
        "# Define the alphabet\n",
        "alphabet = string.ascii_lowercase + \"0123456789-._ \"\n",
        "print(alphabet)\n",
        "\n",
        "# Get unique characters from the alphabet\n",
        "chars = sorted(list(set(alphabet)))\n",
        "print(\"Total chars:\", len(chars))\n",
        "\n",
        "# Create dictionaries for character to index and index to character mappings\n",
        "char_indices = dict((c, i) for i, c in enumerate(chars))\n",
        "indices_char = dict((i, c) for i, c in enumerate(chars))\n",
        "\n",
        "# Define the sampling function\n",
        "def sample(preds, temperature=1.0):\n",
        "    preds = np.asarray(preds).astype(\"float64\")\n",
        "    preds = np.log(preds) / temperature\n",
        "    exp_preds = np.exp(preds)\n",
        "    preds = exp_preds / np.sum(exp_preds)\n",
        "    probas = np.random.multinomial(1, preds, 1)\n",
        "    return np.argmax(probas)\n",
        "\n",
        "if len(sentence) < 15:\n",
        "    sentence = sentence.ljust(15)\n",
        "\n",
        "for diversity in [0.5]:\n",
        "    print(\"...Diversity:\", diversity)\n",
        "\n",
        "print(\"...Generated: \", generated)\n",
        "print(\"...Diversity:\", diversity)\n",
        "\n",
        "# Generate domain names\n",
        "for i in range(30000):\n",
        "    x_pred = np.zeros((1, maxlen, len(chars)))\n",
        "    for t, char in enumerate(sentence):\n",
        "        x_pred[0, t, char_indices[char]] = 1.0\n",
        "    preds = model.predict(x_pred, verbose=0)[0]\n",
        "    next_index = sample(preds, diversity)\n",
        "    next_char = indices_char[next_index]\n",
        "    sentence = sentence[1:] + next_char\n",
        "    generated += next_char\n",
        "\n",
        "    if i % 10000 == 0:  # Check if i is a multiple of 1000\n",
        "        print(\"Value of i:\", i)\n",
        "\n",
        "print(\"...Generated: \", generated)\n",
        "print()"
      ],
      "metadata": {
        "colab": {
          "base_uri": "https://localhost:8080/"
        },
        "id": "0go5R6EG0RQJ",
        "outputId": "ef18d6ac-8b41-4d05-f738-ae2658a907df"
      },
      "execution_count": 6,
      "outputs": [
        {
          "output_type": "stream",
          "name": "stdout",
          "text": [
            "abcdefghijklmnopqrstuvwxyz0123456789-._ \n",
            "Total chars: 40\n",
            "...Diversity: 0.5\n",
            "...Generated:  \n",
            "...Diversity: 0.5\n"
          ]
        },
        {
          "output_type": "stream",
          "name": "stderr",
          "text": [
            "<ipython-input-6-2d23e7094501>:31: RuntimeWarning: divide by zero encountered in log\n",
            "  preds = np.log(preds) / temperature\n"
          ]
        },
        {
          "output_type": "stream",
          "name": "stdout",
          "text": [
            "Value of i: 0\n",
            "Value of i: 10000\n",
            "Value of i: 20000\n",
            "...Generated:   oopaos            eola e              ainardhmr       o h              ailis o              aogeieoe        a r              anpasi          m s              uaau a              eeeisga e              eoita            datol            aoeit i              emgrau v   .              oesaseeih d  . o              aelos            tuii -          i a              eaiiae i              aat a      _              iadssertiee       m s              oepingliye     u a              aassboie e              eiiens           c r              a-paran         c s              eaiian          c s              eakes i              aetso t              enmcsr             oeitrs          e e              liseew          e e              xiaea o              ahcmd             aaerr r              eoosn t              oseaec            l t              nawisa             aosaaaeb             amieoe r              palisao         deriak         i a              oipsaoa             oiras-ar       allaimr         i r              oaepaei              iosemi e              uscsc             eaees          osioi          a s              aaecoets        e e              iooe r              emteou o              aooi r              mmm            eils            daeeeert         oameteo        nmtei           s e      _ a              ioftuoee        tieuhn y              eaeir s              uiel s              aarit r              gusgc          g o              aotiagari       w n              oeeesi          m n              aesao i              ehinheltaeg    i s              oygnoiy        o p              anccus i              penefaet         j s              icfira a              aapaimx        iaoieiabl        aceaieln       u e              iaaaeo             aaaa o              ioial          bacaaaar          lmn            sknpw             eooacl c              oeeimo a              seoahtery         efna            vms             ees r              oaiiior        e g              iotai          u a              eageos m      .              rhdlsi          e p              itd-toe        o e              eeiads         iaoa l   .              laseeaaa             totoadl         e e              atmfa i              hostirg         pateo s              umioa o              oii-aasa        i f              aasa             olaiea s              aodasndt       r s              ouplan            aeamls            rispo t              tnecs          ioiia d              eeoii          lakein o              aatace t              ieao e              onpiisgrsu     ooreaa            oiii           piraarirr            cpzi            niwbc            oeeth a              eeeene           ressa a              lancaita       u i              oebey i              aeeseraei      oeaeiel         s m              aehse r              oieooaa           ogeaoecc         ieeddun        anmauia         eacoro         ueam              elppsnhi           a k              easglib            ptoio e              seop i              oaeece t              irrsn          bcare o              notai a              aihr             heuaie         e e              ecce n              eaand             eea-serei      eipe s              eoemc s              eeia a              ieen a              ouiis o              ueleiag          eoromp a              ieiaia           oapee          a o              oiesao m      . 7              erscontcasino      eelaerc        uelmoc l  _.a t              ooiie          eaeerra g              eldaed a              ietrewo l              oaoiea o              asaoai           r d              ote-ssn        s r              epir            aeciani           foltiuy         c a              deeea -              iurs           enia s              olaciin         e s  _ n              ahme             eoeeetcc        g a              elerei n              eipaga         v l . .              islts             oaaaio a              seotiryta       eianr           oil-dan        aapnet           ieairr g              o-geal c              iio n              aafer           vmr u              paemrlas         i o              eoaster        h r              naiimsa        n t              ducttnetx       o o      _              eeas            aeeiig         rfslsr             eiii             oediaaylan          orieai e              eoesertien     aatt-ada       eieeje          g e              arerieao e              aaeat             topaatdc          o p              agaase          o a              hasaia a              hostirg         aioi            n g              soeaa e              aetoo          aacaedos       e d              uoeafp          e i              oaeci             hhsesl m      . 7              iota r  .              issao             intarai         nsti e              ioaacaoa e              aiuyli e              eeee r              eieap            aecsr c              oeeiuuvo           eayakco p              oaaiii            ciaiumo            iotpaaeeni     aotiega e              aelyal o              ganiai i              ioierh s              iagy a              aiceio s              aetnati n              acraiie         a l              oieoada         eupeoe n              oectmr            osioole        adsiotha       m g              aoeaasta          l s              aucier         aeuaoe         hgcex          agbaeinao m              itdeoau o              oooosc           a s              aetirgc             ailsalaf        psne             eeetsa i              oteta a              seecenterhse    a a  _ n              eiuendi e              eeeaeo             notoeie         i a              eodlrns        jastha           marniio a              oetice         e l   .              ureaeao        e e              eeacng         oaeisa i              rapaui            aokr a              aasnng              oip-isi        eslhp a              osik            mdsoas          ekaa             maraala            aetaea a              otpomcdt       laniol          a t              iedanlrs           rhnhtt             aotzaorsa      e l   .              eoeerm m      . 7              aaknad i              eiraee         r d              eii- i              sioaa- a              oales a              oaeia            aniala           e p              andlern        e l   .              ueospari        salie           laval- y              ioaeaa         e t      _              a-sa r  .              ioeettas        a l      _              aaaaa r  .              rmsi e              sriie i              henuaisgn       i d              aadori a              eseaacu e              eoeuesas        fatytar         r c              eueati n              aedpte h              oaeiaeo          hcpc            nisanaol              iosibnm             aein l              oeead          iutao             acmaat p              uirsiabm        e c              ivdke             ihctest          a e              ieo a              bhaomtrr          o e              antaoien i              eaeemoye       aoriesm n              eago a              ayaer           owsiart         s r              aiiend l   .              oeplly a              aefo e              hosta s              comeoar         s o      _ a              ouload         wps              revlsm             iiii             aisaarit           s e      _ a              oatelt         i o              iaatea          solaa l              selvokt e              tnici          aolati g      . 7              emmrig e              iosanei        a c              aasee z              dacateo          ssi n   .              aieeenr m              soosh r  .              dieepn t              sagnattaliu      usoe              oeeeeari          fuoena          eeeaaienr e              iolvel         saseel s              nnts a              omeaolr        a a  _ o a              etereeo        ooaoelae       t i              aarien         e e              aetwer i              eeeo m      .              oazao o              oha d              senconser         eaie e              eiay a              amnti              beotar t              hobao e              aonaops        n c              annawen             tcii            e e              yalela t              oeicmrsn        a a              uta- o              aasao y              cosaiaera          heplins        i f              nmts           seascusa a              oieaok         p r              eiii           e d   .              ierante          eweom            hhloo o              nawsao          aadxest r              aade t              sell g              husaaie             aeplrs d              uaaiicn          o p              aadsoi t      _ 7              ioai-eam       b z  _ k a              naweleer a              aeldarien      p l              aaaa r  .              exmomient       lonaoa         e s  . o              poomcrrd        oaeaeaaoa a              entaea o              aitaseuo        a u  _ n              ereceyere           sariaoe         s o      _ a              rapicg e              ooeca e              aillsam n              aotianieg       seaerr n              unai           e s  _ n              aaaia a              e i              certaeil a              ioaiae i              eaiybr            i s              helra i              oalozlen s              oaeager e              aa-raai          d a              oaeis           seprfs          r d              eemsacaei             eoeatee          ofceist r              arorell m              u p              iersee g              radico           pktsw r              rofeb          aaisa i              oleamlnp            e e              soaseathe e              ahdaoo          s n              orenocus       e i              ehms            oioia           iofaet          i s              srosu a              oeeea          a r              aoeigu i              peae-aia         r s              oecaoiao       u e              ismitt n              iasaie           eeersi n              aexa t              ioaliaii n              eee-rog e              aoaac o              ificedih       a r              aoeaaeaee        e e              eraponcop e              aalaeo           almoheea            nlt a      _              eoeerap r              aaca            possre t              senvasi e              aime i              eaetzoa o              ciila i              ieasdl n   . .   . .              istnnt- a              noteda o              ureis           hadk-ron          orpmreua       o u              unaii             ooitei         not-aneos o              ayr-nda        j t              eaeaae o              obeet i              oaeep s              oaciaee          r b              aoeauho             eeiean          uaenla         a l              aotlust y              aasee            sedn h              eies            yeea o              eauaooa        o i              eusiea         c a              aaoaaa             eciao          a e              nsm             eoiel          ssagleu          a s              mad-ool         o s              aetrida i              aaieooja         parkpvr             aasiro a              idsaen a              oaeae            mattrr n              oirsseoa       melrlania          i p              eoinaaes       oaeaca e              ooatiael s              oseaactpn t              pirt-opa n              oolosote         mapnhte          drrnaoi          eaea n              oiorom         eaeis o              oines r              oeeltas n              oeeie r              eayiag          w r              taeis a              seaper            c a              oeecblr        t a              ieese f              olial -          d i              i f              enpa n              aecaoa             ercasen         labtc            aemclsbn              soaaia             artioaei         silstnrw        s o      _ a              seidtnst        d s              utm s              eaflog         aeaacr i              aatpesiaa        iutn t              ucbs              ueea           i r              ocarlcnl       o e              eead           smir i              ropiaee r              aetimo n              ieas l   .              aaudieeo           b c              oiaaa e              aesa- e              oisdooss       sclrudl o              aesit s              hagaeaess          e o      _              ooetdmg             eoiroei        eeei e              acus r              rsya a              eeee r              eaoiai i              oked l  _.amod          o e              sarimcoa        e e              eopmi t              aoeauoo         s n              neptta            uoeinn r              srehy          a p              aasalmo             aeeroe i              orire          eeehrs         saoaf r  .              oaseeerbi       b c              oedoaif e              iimok          e i              ooeoam         o e              oaeall            a g              aatioeoia       s e      _ a              aitk n              eenprcs        s n              aoaalsaa d   . a              eohan a              aoeiaa            dusoana i              eoaeo             aopaaet           amuiag a              aeeicy o              yayalg n              aarint            eptro a              aop-o-e s               obiti            taeiaua        p r              oofaoe          o e      _ a              caalids        roaaeu o              eaiimoo- r              aaeaae           eaeeevrln            e i              rnc             eeda a              iifea          icaea s              earcaaall      dme i              iiusi a              eosswar t              ueaena          e e              rosst o              nepl n              iapcns             aation- o              asra a              neuac t              cdra e              aoeeod          eteramtbor      c r              apsie -        e a      _              aacfnsl            aataoaaaa         soltoca e              resttl n      . 7              aid-taa        iodeaglmb      aeise a              hamadi            h s              eele- a              iedaes         islad           e s  . a              iriela         eieot          madiaaasr            sspe t              aeeiise          a e              oepisgooe       f n              iafglr         orieedgdno     aignnntt       r c              ekhbsa             aadlas           abnp            u o              nhwsd             relecsa l   . .              iasuat a              dsezseogt      o i              honelaoc        u h   .              oereirno        l s              redteoprnn       1 b .              ramraf              evelau s              aiemss o              aedaic r  .              aonaaa r  .              lovevcts            tustaoonso      d i              eiii            iicczs              imf-momt          i d              ellsro i              aameea o              oadlec n              iidua i              dog-ao         e f              eigol           shnpupe         matiie             oaenaaitt s              asaed r  .              iens e              souaio           nhwe             aatplly a              devirl s              sirsgooe         uraaata        a i              odiaoea t              oecii          imiei l              eakiage        l s              ietsrtp            yrlnmi a              baya-nedw          e a              i l              esien l      . 7              eoo t              ruxieas        v -              ooeata r  .              osgo n              apirr n              ioanaain       a e              edreseade s              asslireu        i a              oipara         dzfpnr             nlw            aecaiie        a e              cilostat            asyo a              oaeiit           aaoii           r d              infel          eaoooyplly     f s              eopenl e              camtygi         oeeeml             seatcar          i d              ooeis          paliz             mkg            iosaew c              wiseiisr d              oiathro        orpuis         v v              ospankei- u              e n              aor-lnv         calidi             idhisg a              oesaeasaa      x - _    p c              iadml             aaai l      .              revelat a              farenali n              aisgedo v              ueie           aaiaaep           p e              caeie- o   . _              oreaaae          b t              eneaaa           a s              newertc s              iosacil        pacaa          n t              tocgoa            it-oahi         m r              aaeacn            n t              a t              reaomoat            aeojoose        i s              uoa l   .              uaiaoc            tmso            a p              eaperaoo        v l . .              hupuoi            eooaga a               orssoct         r d              emelilg i              eaeaier             iasse          ofsaiistae     ssooa            dtse d              oacet-le n              ceitazis         p l   .              saaa n              eopalil              aaraao           scania             eudlca i              ibstar         eoeian         smrd            uiooi          aiinaairne     ckmi e              iiepooa        l t              aapxke t              oageaaew r              ahpfant             eaearaaa          altmmd             anpooti         t a              aai             oapeu i              autir l   . _              aosaso i              eoiia          lssi n              oeeis c              oaeohaal n              ayae           a n              sirdms          e i              asaaie           dolfanmmn             ooepitg        aiisocem       boidaoe         ldn u              eeeo o              eeasho          eooaaa          espalk         b a              oaioipc            masaaa          aqaaror           smuet o              ddsbe a              oorai k      . _              ootpba s              oaenbaea         s a      _ a              ooaoes a              oapeeski            scestole        oaeg-seadc      oopel- e              ertfsno        t p              selcamt r              cedldc            oiola s              aieaao d  _ a              aasiaoc            aegeiake          d a              siegale         tialaalr          o i              eiei           e c              eosaarae          s u              atiaaa e              eienata         enieota          o e      _ a              aaia o              iibt n              apeuie           seopari         jsaa             eaeayer        e a              arteao             aio-eeoe       o e              rovrdn            inaaedracaei          r f              oife            enaac            o a              uoeutuao       t p              eaeil t              oieban         o i              oaaei s              oreapeng       a i              tnrci            irdtigei       eorepdrsg      aasdata           e s  . n              iaami i              etlr             ssoiie         e o      _              u r              aha d              ohisa i              aatiaeoa           soydegl c              iipie           m n              oatoatr            eoiinee        aaeenao           iiteie          a t              aotein         rexss              enicoo           a m              oieael l      . 7              oapaa m      _ 7              tsdial          awast o              eaeal          ceveutw b              aexaidie          p s              eeesae n              naaianro         b t              lene a              aosimega        e p              aiaeim u              eoloas          iis-ae         oll-in r              amddoh e              oeiiesos       emcr             inseiri a              oeetmagi       aead s              ieaaael           ljviseo        e b .              aososii            r c              icoaa            toeeo           oon7a7             uaao o              aoiioo           l n              irsmeni          d e              iadaa          d n              oaayoo           o d              irtrapk        faeeaara            hotteete         c i              eaeaton i              aeadeslink      a i  _ o a              eiaaniee          raecost          a s              aodisslad       t i              rigatic         i d   .              eaac             ramlaa          s p   . a              uehfi s  _ a              lecaai n              eeae l              pontcrh         osuat e              wibeale           e e              oiea a              i e              asclosd          o i              otaoa a              oaera           n w              aiaaoie i              orlcgdnt             eaeaoe r              ensamt i  _ n   . _              ooliaaaao      e t      _              iaadho t              npmo            ioviou         m s              iea i      _ _              abee            hnsoetan          pnaesn t              meltaf a              iomia- e              aaese t              phsooa          l g      _              aaiaca t              misaee e              oayiesc r  .              aatooi             siooie           aaeioos        rhanaaaena           dlacko         basla           ihorea         c a              aidetid        s o      _ a              eoiao           t a              aapiaro            ceelau a              m-nadig n              eeespo t              eortlon        abiiaa            casentai          bateltr e              eorrit s              oaaeurha           arsio           eoe-eei k              iesg m              dasey-ia           siseuat           aueio           poseedrk              eocr d      .              oaiion            easlitet s              eeeo           lagesa a              aasa m   . .              oouee e              aooii           e e              eomp-lom a              onsian h              aaiore r              aslci             maydrn             oeaide         v l . .              chsmos           oatiie s              iad-din l   .              aoircosa          s n              aee-raai e              naoesol a              iaseaire        b k              aosntw             radaso 7              evtne s              eegoca e              ietacttr n              detiea- e              oop s              eipsi            bawaota            a-aaa           regtnbt         i f              osih a              aiepcri-tsn t              oeiia l w              ertoaag         a t              aepaet o              iitaese        e i              oelcs o              ageela            aeds c              ieal o              aoiio e              eagieeeo o              nowann          p o              mangeaas o              aeo            minaeln            oieneaigs      o a              oessie          esmaaeer        i e              nateena           acot           yeuaa s              iaiiug           l t              suoesa          mltn             tposi            eeisie w              oiepor           i a              oiasea c              oeseate           a i              eeroll          a m      _              eaesehenn       osseds         pml            o e      _ a              aorll          r s              eatinniug      o a              uaenglieet     i s              aesnoti g              lobioco t              oaaiaa          o l   .              oeilhrn        o c              saofi e              oaaiailln            ssoro            lrpau          e p              eeraheist         aatalipya       a t              solac e              aoheeo         o a              arpsl t              oopntw r               meclubs           oaiieao         n x              4a2i n              loselacllb            e e              ulits          apaoaifa             redorats         prcp             ecaa             uoitov k              aiaiire           uumflrt o              eoid           i s              oiiroo t              ealtoeo         easecs            nowaoaa        taicrhdca            itpasia        e n              napicgem          oacboa a              wutlesirc       aatfemise      ioleno e              oenii-remce i              caoediaa         aoeaawtn              oeatda e              iednna            aiton           peohsn t              sor d   .              oeip- a              ecgioe           iiara i              aocxe           dosdruo              riglabe e              eieian         m l   . a              oeeaae l              iesgnr n              eredtioe       i a              eeetmag        nyuai            hrw s              eayire          aesaail            asganee        d d   .              eii            misaae          a c              eipn             itsaa          n t              dooea           iessas a              iinna r  _              oooiea         iiscw r              daneeii          o o      _              espame o              piui-rlc        sry            osta o              eagton           aaeilr s              efeo             oaep           v r              aasp            oalaie          cpas e              uai- a              idar o              omosc r  .              naroa          eyceet          oisaliha        c o              uhake           aatas e              emas t              erpcora        p r              dolssaa e              dospa a              rusaea r  .              eoehr           g r              aaoaoaa            aieop          o l   .              aamitee         akoo           segderif         e i              o-eee            warsyer         a c              oaeiyt           ioaei          s e      _ a              losiei          o a              aeccnc             eridrs           seaoco           nppea t              nahmt             airoaia e              erds-ooem      hortosa        y a              eie            aeas o              aocai           i o              rcs            elvotuea        eriaati e              anlola-er      o a              eisora         i s              odesansaae     e t      _              ligett i              netteoh         c s              rhxrt           e a              ooeaira            eaiassa            ait             virlktnm          c e              romiaa i              ancostn        lba            lavgr a              eoeieor        omfasel         s e      _ a              rafila          o d              oiefgcr        h n              soegmam a              ikes e              aein i              lavbdn            aecioo a              elicligkt      c s              oaiter         oiei a              aumuya          o e              aeioscas         eolmnni g              eoedpa-knnt    eciio             aicap          autieos         i c              oaatlan           maaiuio         eosnowm        fnane           saeheml         s a      _ a              aaia o              hortabea       eeaaainro         s o      _ a              ielsysaee      ikdd             oocea-tina        a s              aataoaa e              eoyoxi         m l   . a              uelcbn         o a              oasioe-aou     a t              nker e              oiis l   .              orlenaoe       a c              oppoaea- e              oriiea            eaeeai g              tigrari         w a              eogesa         mrsi           iesgaoeaom s              eoaa b              oienni         brnnf             aieaai e              sohsaei          s s  . a              oenol o              aetieeuc       puote r              ooaam          u e              treaatnnht     j y              ehaae e              eponnro i              eyaenc o              aalierl          yeaol o              o m              aeasio          ecpcnn             newaelh r  .              aeetei          m s              eoerseae h              aas c              oieioal           e i              eaeiv d   .              elsecaee e              dasda a              casinoata         a l              aeeenr           nctp           h g              mareaa o              drme            sse            icuaatn t              eeeear            oapie i              doidaea -        i w              iioan e              eop l   .              oeias i               arstndw r              iedeoi         rakei s              eseriaaoa         m s              hotteeo         uieeenr        e i              aisaeaae            tuete             aceaoiao o              dmea e              aoaea           e e              assaoai             brtp             oaepnrti          stotasei             heclaata o              siedt r              itpi e              iysesa             hoatveoe        ahinase        s o      _ a              faedako             ciptai          sergaak         aaclrd         a e              anxon l      . 7              eoisrmg         e a              aeasg m              iooeg           ahfm a              aottaneoe        ereno o              oeetmoi h              aiiet          adcort          k s              iop t      _              socwtr             eami e              iid a              aoiid a              ieal s              rtp            nlt o              amtingd        a e              euiiae o              cnnm            s l              oaenaias       a t              ensiae c              aisnmto           fenaa o              hesiagleb      a i              aatao           madsnr          n k              nuwt m              eislos         oaha           f e              oaee s          \n",
            "\n"
          ]
        }
      ]
    },
    {
      "cell_type": "code",
      "source": [
        "import pandas as pd\n",
        "\n",
        "# Length of each segment\n",
        "segment_length = 15\n",
        "\n",
        "# Calculate the number of segments\n",
        "num_segments = len(generated) // segment_length\n",
        "\n",
        "# Create a list to store the segments\n",
        "segments = [generated[i:i + segment_length] for i in range(0, len(generated), segment_length)]\n",
        "\n",
        "# Create the \"Test\" DataFrame\n",
        "df2 = pd.DataFrame({\"Segment\": segments})\n",
        "\n"
      ],
      "metadata": {
        "id": "xsUvTcTxIF-E"
      },
      "execution_count": 9,
      "outputs": []
    },
    {
      "cell_type": "code",
      "source": [
        "import pandas as pd\n",
        "\n",
        "def fix_domain(segment):\n",
        "    # Remove leading spaces\n",
        "    fixed_segment = segment.strip()\n",
        "\n",
        "    # Find the first space after encountering letters and cut there\n",
        "    for i, char in enumerate(fixed_segment):\n",
        "        if char.isspace() and any(c.isalpha() for c in fixed_segment[:i]):\n",
        "            fixed_segment = fixed_segment[:i]\n",
        "            break\n",
        "\n",
        "    return fixed_segment\n",
        "\n",
        "# Concatenate all characters of each row without spaces\n",
        "df2[\"Joined_Segment\"] = df2[\"Segment\"].str.replace(\" \", \"\")\n",
        "\n",
        "# Apply the fix_domain function to the \"Joined_Segment\" column\n",
        "df2[\"Fixed_Segment\"] = df2[\"Joined_Segment\"].apply(fix_domain)\n",
        "\n",
        "# Drop the \"Joined_Segment\" column if no longer needed\n",
        "df2.drop(columns=[\"Joined_Segment\"], inplace=True)\n",
        "df2.drop(columns=[\"Segment\"], inplace=True)\n"
      ],
      "metadata": {
        "id": "2eG3bQ_eJMmb"
      },
      "execution_count": 10,
      "outputs": []
    },
    {
      "cell_type": "code",
      "source": [
        "print(df2)"
      ],
      "metadata": {
        "colab": {
          "base_uri": "https://localhost:8080/"
        },
        "id": "VtxA-kupJTbD",
        "outputId": "301a384d-cffb-490c-b5f1-b8685d87e9c7"
      },
      "execution_count": 12,
      "outputs": [
        {
          "output_type": "stream",
          "name": "stdout",
          "text": [
            "     Fixed_Segment\n",
            "0           oopaos\n",
            "1            eolae\n",
            "2           ainard\n",
            "3            hmroh\n",
            "4              ail\n",
            "...            ...\n",
            "1995           eis\n",
            "1996        losoah\n",
            "1997           afe\n",
            "1998             o\n",
            "1999          aees\n",
            "\n",
            "[2000 rows x 1 columns]\n"
          ]
        }
      ]
    },
    {
      "cell_type": "code",
      "source": [
        "uploaded = files.upload()"
      ],
      "metadata": {
        "colab": {
          "base_uri": "https://localhost:8080/",
          "height": 78
        },
        "id": "OqKeWvwbKiq6",
        "outputId": "36b3092f-8adb-4efc-ca1b-d64aba481737"
      },
      "execution_count": 14,
      "outputs": [
        {
          "output_type": "display_data",
          "data": {
            "text/plain": [
              "<IPython.core.display.HTML object>"
            ],
            "text/html": [
              "\n",
              "     <input type=\"file\" id=\"files-82eb0833-6465-4dac-9a9a-0908463fd344\" name=\"files[]\" multiple disabled\n",
              "        style=\"border:none\" />\n",
              "     <output id=\"result-82eb0833-6465-4dac-9a9a-0908463fd344\">\n",
              "      Upload widget is only available when the cell has been executed in the\n",
              "      current browser session. Please rerun this cell to enable.\n",
              "      </output>\n",
              "      <script>// Copyright 2017 Google LLC\n",
              "//\n",
              "// Licensed under the Apache License, Version 2.0 (the \"License\");\n",
              "// you may not use this file except in compliance with the License.\n",
              "// You may obtain a copy of the License at\n",
              "//\n",
              "//      http://www.apache.org/licenses/LICENSE-2.0\n",
              "//\n",
              "// Unless required by applicable law or agreed to in writing, software\n",
              "// distributed under the License is distributed on an \"AS IS\" BASIS,\n",
              "// WITHOUT WARRANTIES OR CONDITIONS OF ANY KIND, either express or implied.\n",
              "// See the License for the specific language governing permissions and\n",
              "// limitations under the License.\n",
              "\n",
              "/**\n",
              " * @fileoverview Helpers for google.colab Python module.\n",
              " */\n",
              "(function(scope) {\n",
              "function span(text, styleAttributes = {}) {\n",
              "  const element = document.createElement('span');\n",
              "  element.textContent = text;\n",
              "  for (const key of Object.keys(styleAttributes)) {\n",
              "    element.style[key] = styleAttributes[key];\n",
              "  }\n",
              "  return element;\n",
              "}\n",
              "\n",
              "// Max number of bytes which will be uploaded at a time.\n",
              "const MAX_PAYLOAD_SIZE = 100 * 1024;\n",
              "\n",
              "function _uploadFiles(inputId, outputId) {\n",
              "  const steps = uploadFilesStep(inputId, outputId);\n",
              "  const outputElement = document.getElementById(outputId);\n",
              "  // Cache steps on the outputElement to make it available for the next call\n",
              "  // to uploadFilesContinue from Python.\n",
              "  outputElement.steps = steps;\n",
              "\n",
              "  return _uploadFilesContinue(outputId);\n",
              "}\n",
              "\n",
              "// This is roughly an async generator (not supported in the browser yet),\n",
              "// where there are multiple asynchronous steps and the Python side is going\n",
              "// to poll for completion of each step.\n",
              "// This uses a Promise to block the python side on completion of each step,\n",
              "// then passes the result of the previous step as the input to the next step.\n",
              "function _uploadFilesContinue(outputId) {\n",
              "  const outputElement = document.getElementById(outputId);\n",
              "  const steps = outputElement.steps;\n",
              "\n",
              "  const next = steps.next(outputElement.lastPromiseValue);\n",
              "  return Promise.resolve(next.value.promise).then((value) => {\n",
              "    // Cache the last promise value to make it available to the next\n",
              "    // step of the generator.\n",
              "    outputElement.lastPromiseValue = value;\n",
              "    return next.value.response;\n",
              "  });\n",
              "}\n",
              "\n",
              "/**\n",
              " * Generator function which is called between each async step of the upload\n",
              " * process.\n",
              " * @param {string} inputId Element ID of the input file picker element.\n",
              " * @param {string} outputId Element ID of the output display.\n",
              " * @return {!Iterable<!Object>} Iterable of next steps.\n",
              " */\n",
              "function* uploadFilesStep(inputId, outputId) {\n",
              "  const inputElement = document.getElementById(inputId);\n",
              "  inputElement.disabled = false;\n",
              "\n",
              "  const outputElement = document.getElementById(outputId);\n",
              "  outputElement.innerHTML = '';\n",
              "\n",
              "  const pickedPromise = new Promise((resolve) => {\n",
              "    inputElement.addEventListener('change', (e) => {\n",
              "      resolve(e.target.files);\n",
              "    });\n",
              "  });\n",
              "\n",
              "  const cancel = document.createElement('button');\n",
              "  inputElement.parentElement.appendChild(cancel);\n",
              "  cancel.textContent = 'Cancel upload';\n",
              "  const cancelPromise = new Promise((resolve) => {\n",
              "    cancel.onclick = () => {\n",
              "      resolve(null);\n",
              "    };\n",
              "  });\n",
              "\n",
              "  // Wait for the user to pick the files.\n",
              "  const files = yield {\n",
              "    promise: Promise.race([pickedPromise, cancelPromise]),\n",
              "    response: {\n",
              "      action: 'starting',\n",
              "    }\n",
              "  };\n",
              "\n",
              "  cancel.remove();\n",
              "\n",
              "  // Disable the input element since further picks are not allowed.\n",
              "  inputElement.disabled = true;\n",
              "\n",
              "  if (!files) {\n",
              "    return {\n",
              "      response: {\n",
              "        action: 'complete',\n",
              "      }\n",
              "    };\n",
              "  }\n",
              "\n",
              "  for (const file of files) {\n",
              "    const li = document.createElement('li');\n",
              "    li.append(span(file.name, {fontWeight: 'bold'}));\n",
              "    li.append(span(\n",
              "        `(${file.type || 'n/a'}) - ${file.size} bytes, ` +\n",
              "        `last modified: ${\n",
              "            file.lastModifiedDate ? file.lastModifiedDate.toLocaleDateString() :\n",
              "                                    'n/a'} - `));\n",
              "    const percent = span('0% done');\n",
              "    li.appendChild(percent);\n",
              "\n",
              "    outputElement.appendChild(li);\n",
              "\n",
              "    const fileDataPromise = new Promise((resolve) => {\n",
              "      const reader = new FileReader();\n",
              "      reader.onload = (e) => {\n",
              "        resolve(e.target.result);\n",
              "      };\n",
              "      reader.readAsArrayBuffer(file);\n",
              "    });\n",
              "    // Wait for the data to be ready.\n",
              "    let fileData = yield {\n",
              "      promise: fileDataPromise,\n",
              "      response: {\n",
              "        action: 'continue',\n",
              "      }\n",
              "    };\n",
              "\n",
              "    // Use a chunked sending to avoid message size limits. See b/62115660.\n",
              "    let position = 0;\n",
              "    do {\n",
              "      const length = Math.min(fileData.byteLength - position, MAX_PAYLOAD_SIZE);\n",
              "      const chunk = new Uint8Array(fileData, position, length);\n",
              "      position += length;\n",
              "\n",
              "      const base64 = btoa(String.fromCharCode.apply(null, chunk));\n",
              "      yield {\n",
              "        response: {\n",
              "          action: 'append',\n",
              "          file: file.name,\n",
              "          data: base64,\n",
              "        },\n",
              "      };\n",
              "\n",
              "      let percentDone = fileData.byteLength === 0 ?\n",
              "          100 :\n",
              "          Math.round((position / fileData.byteLength) * 100);\n",
              "      percent.textContent = `${percentDone}% done`;\n",
              "\n",
              "    } while (position < fileData.byteLength);\n",
              "  }\n",
              "\n",
              "  // All done.\n",
              "  yield {\n",
              "    response: {\n",
              "      action: 'complete',\n",
              "    }\n",
              "  };\n",
              "}\n",
              "\n",
              "scope.google = scope.google || {};\n",
              "scope.google.colab = scope.google.colab || {};\n",
              "scope.google.colab._files = {\n",
              "  _uploadFiles,\n",
              "  _uploadFilesContinue,\n",
              "};\n",
              "})(self);\n",
              "</script> "
            ]
          },
          "metadata": {}
        },
        {
          "output_type": "stream",
          "name": "stdout",
          "text": [
            "Saving tranco_6JVNX.csv.gz to tranco_6JVNX.csv (1).gz\n"
          ]
        }
      ]
    },
    {
      "cell_type": "code",
      "source": [
        "import pandas as pd\n",
        "df = pd.read_csv('tranco_6JVNX.csv.gz', compression='gzip')\n",
        "df = df.drop('1', axis=1)\n",
        "df = df.rename(columns={'google.com': 'Domain'})\n",
        "df.loc[df.index.max() + 1] = 'google.com'\n",
        "print(df)\n"
      ],
      "metadata": {
        "colab": {
          "base_uri": "https://localhost:8080/"
        },
        "id": "etS2N7eLSxGl",
        "outputId": "1912cfe8-3599-49d9-9366-24665a6ca6dc"
      },
      "execution_count": 18,
      "outputs": [
        {
          "output_type": "stream",
          "name": "stdout",
          "text": [
            "                        Domain\n",
            "0                 a-msedge.net\n",
            "1                  youtube.com\n",
            "2                 facebook.com\n",
            "3                microsoft.com\n",
            "4                amazonaws.com\n",
            "...                        ...\n",
            "3576071            lmd-inc.com\n",
            "3576072               yoow.com\n",
            "3576073               ckie.com\n",
            "3576074  hk-stanley-market.com\n",
            "3576075             google.com\n",
            "\n",
            "[3576076 rows x 1 columns]\n"
          ]
        }
      ]
    },
    {
      "cell_type": "code",
      "source": [
        "!pip install tldextract\n",
        "!pip install wordninja\n",
        "\n",
        "import pandas as pd\n",
        "import tldextract\n",
        "import wordninja\n",
        "\n",
        "# Function to split a domain into meaningful keywords\n",
        "def split_domain_into_keywords(domain):\n",
        "    # Use tldextract to extract parts of the domain\n",
        "    extracted = tldextract.extract(domain)\n",
        "\n",
        "    # Get separated parts of the domain\n",
        "    #subdomain = extracted.subdomain\n",
        "    domain_name = extracted.domain\n",
        "    tld = extracted.suffix\n",
        "\n",
        "    # Split the domain into keywords using wordninja\n",
        "    #subdomain_keywords = wordninja.split(subdomain) if subdomain else []\n",
        "    #domain_keywords = wordninja.split(domain_name)\n",
        "\n",
        "    return {\n",
        "        #\"Subdomain Keywords\": subdomain_keywords,\n",
        "        #\"Domain Keywords\": domain_keywords,\n",
        "        \"TLD\": tld,\n",
        "        \"Domain Name\": domain_name\n",
        "    }\n",
        "\n",
        "batch_size = 500000\n",
        "results = []\n",
        "\n",
        "for batch_number, start in enumerate(range(0, len(df), batch_size), start=1):\n",
        "    end = start + batch_size\n",
        "    batch_df = df.iloc[start:end]\n",
        "\n",
        "    print(f\"Processing batch {batch_number}\")\n",
        "\n",
        "    # Apply the function to the 'Domain' column and create additional columns\n",
        "    batch_df[['TLD', 'Domain Name']] = batch_df['Domain'].apply(split_domain_into_keywords).apply(pd.Series)\n",
        "\n",
        "    results.append(batch_df)\n",
        "\n",
        "# Concatenate the results into a new DataFrame\n",
        "df = pd.concat(results)\n",
        "\n",
        "# Filter the dataframe to keep only rows where the length of the element in the \"Domain Name\" column is less than or equal to 15\n",
        "df = df[df['Domain Name'].str.len() <= 15]\n",
        "\n",
        "# Reset the dataframe index to maintain row order\n",
        "df.reset_index(drop=True, inplace=True)\n",
        "\n",
        "# Print the resulting DataFrame\n",
        "print(df)\n"
      ],
      "metadata": {
        "colab": {
          "base_uri": "https://localhost:8080/"
        },
        "id": "EeNgDIOKTdfu",
        "outputId": "742a15f1-f882-4831-8494-709e826ac619"
      },
      "execution_count": 20,
      "outputs": [
        {
          "output_type": "stream",
          "name": "stdout",
          "text": [
            "Collecting tldextract\n",
            "  Downloading tldextract-5.1.2-py3-none-any.whl (97 kB)\n",
            "\u001b[?25l     \u001b[90m━━━━━━━━━━━━━━━━━━━━━━━━━━━━━━━━━━━━━━━━\u001b[0m \u001b[32m0.0/97.6 kB\u001b[0m \u001b[31m?\u001b[0m eta \u001b[36m-:--:--\u001b[0m\r\u001b[2K     \u001b[90m━━━━━━━━━━━━━━━━━━━━━━━━━━━━━━━━━━━━━━━━\u001b[0m \u001b[32m97.6/97.6 kB\u001b[0m \u001b[31m3.6 MB/s\u001b[0m eta \u001b[36m0:00:00\u001b[0m\n",
            "\u001b[?25hRequirement already satisfied: idna in /usr/local/lib/python3.10/dist-packages (from tldextract) (3.6)\n",
            "Requirement already satisfied: requests>=2.1.0 in /usr/local/lib/python3.10/dist-packages (from tldextract) (2.31.0)\n",
            "Collecting requests-file>=1.4 (from tldextract)\n",
            "  Downloading requests_file-2.0.0-py2.py3-none-any.whl (4.2 kB)\n",
            "Requirement already satisfied: filelock>=3.0.8 in /usr/local/lib/python3.10/dist-packages (from tldextract) (3.13.1)\n",
            "Requirement already satisfied: charset-normalizer<4,>=2 in /usr/local/lib/python3.10/dist-packages (from requests>=2.1.0->tldextract) (3.3.2)\n",
            "Requirement already satisfied: urllib3<3,>=1.21.1 in /usr/local/lib/python3.10/dist-packages (from requests>=2.1.0->tldextract) (2.0.7)\n",
            "Requirement already satisfied: certifi>=2017.4.17 in /usr/local/lib/python3.10/dist-packages (from requests>=2.1.0->tldextract) (2024.2.2)\n",
            "Installing collected packages: requests-file, tldextract\n",
            "Successfully installed requests-file-2.0.0 tldextract-5.1.2\n",
            "Collecting wordninja\n",
            "  Downloading wordninja-2.0.0.tar.gz (541 kB)\n",
            "\u001b[2K     \u001b[90m━━━━━━━━━━━━━━━━━━━━━━━━━━━━━━━━━━━━━━━━\u001b[0m \u001b[32m541.6/541.6 kB\u001b[0m \u001b[31m6.8 MB/s\u001b[0m eta \u001b[36m0:00:00\u001b[0m\n",
            "\u001b[?25h  Preparing metadata (setup.py) ... \u001b[?25l\u001b[?25hdone\n",
            "Building wheels for collected packages: wordninja\n",
            "  Building wheel for wordninja (setup.py) ... \u001b[?25l\u001b[?25hdone\n",
            "  Created wheel for wordninja: filename=wordninja-2.0.0-py3-none-any.whl size=541530 sha256=64fed343455de104aed515987c68264ae4b3dae81dbdecb570fa3e2796c4ca1a\n",
            "  Stored in directory: /root/.cache/pip/wheels/aa/44/3a/f2a5c1859b8b541ded969b4cd12d0a58897f12408f4f51e084\n",
            "Successfully built wordninja\n",
            "Installing collected packages: wordninja\n",
            "Successfully installed wordninja-2.0.0\n",
            "Processing batch 1\n"
          ]
        },
        {
          "output_type": "stream",
          "name": "stderr",
          "text": [
            "<ipython-input-20-360fd6cfa58a>:39: SettingWithCopyWarning: \n",
            "A value is trying to be set on a copy of a slice from a DataFrame.\n",
            "Try using .loc[row_indexer,col_indexer] = value instead\n",
            "\n",
            "See the caveats in the documentation: https://pandas.pydata.org/pandas-docs/stable/user_guide/indexing.html#returning-a-view-versus-a-copy\n",
            "  batch_df[['TLD', 'Domain Name']] = batch_df['Domain'].apply(split_domain_into_keywords).apply(pd.Series)\n",
            "<ipython-input-20-360fd6cfa58a>:39: SettingWithCopyWarning: \n",
            "A value is trying to be set on a copy of a slice from a DataFrame.\n",
            "Try using .loc[row_indexer,col_indexer] = value instead\n",
            "\n",
            "See the caveats in the documentation: https://pandas.pydata.org/pandas-docs/stable/user_guide/indexing.html#returning-a-view-versus-a-copy\n",
            "  batch_df[['TLD', 'Domain Name']] = batch_df['Domain'].apply(split_domain_into_keywords).apply(pd.Series)\n"
          ]
        },
        {
          "output_type": "stream",
          "name": "stdout",
          "text": [
            "Processing batch 2\n"
          ]
        },
        {
          "output_type": "stream",
          "name": "stderr",
          "text": [
            "<ipython-input-20-360fd6cfa58a>:39: SettingWithCopyWarning: \n",
            "A value is trying to be set on a copy of a slice from a DataFrame.\n",
            "Try using .loc[row_indexer,col_indexer] = value instead\n",
            "\n",
            "See the caveats in the documentation: https://pandas.pydata.org/pandas-docs/stable/user_guide/indexing.html#returning-a-view-versus-a-copy\n",
            "  batch_df[['TLD', 'Domain Name']] = batch_df['Domain'].apply(split_domain_into_keywords).apply(pd.Series)\n",
            "<ipython-input-20-360fd6cfa58a>:39: SettingWithCopyWarning: \n",
            "A value is trying to be set on a copy of a slice from a DataFrame.\n",
            "Try using .loc[row_indexer,col_indexer] = value instead\n",
            "\n",
            "See the caveats in the documentation: https://pandas.pydata.org/pandas-docs/stable/user_guide/indexing.html#returning-a-view-versus-a-copy\n",
            "  batch_df[['TLD', 'Domain Name']] = batch_df['Domain'].apply(split_domain_into_keywords).apply(pd.Series)\n"
          ]
        },
        {
          "output_type": "stream",
          "name": "stdout",
          "text": [
            "Processing batch 3\n"
          ]
        },
        {
          "output_type": "stream",
          "name": "stderr",
          "text": [
            "<ipython-input-20-360fd6cfa58a>:39: SettingWithCopyWarning: \n",
            "A value is trying to be set on a copy of a slice from a DataFrame.\n",
            "Try using .loc[row_indexer,col_indexer] = value instead\n",
            "\n",
            "See the caveats in the documentation: https://pandas.pydata.org/pandas-docs/stable/user_guide/indexing.html#returning-a-view-versus-a-copy\n",
            "  batch_df[['TLD', 'Domain Name']] = batch_df['Domain'].apply(split_domain_into_keywords).apply(pd.Series)\n",
            "<ipython-input-20-360fd6cfa58a>:39: SettingWithCopyWarning: \n",
            "A value is trying to be set on a copy of a slice from a DataFrame.\n",
            "Try using .loc[row_indexer,col_indexer] = value instead\n",
            "\n",
            "See the caveats in the documentation: https://pandas.pydata.org/pandas-docs/stable/user_guide/indexing.html#returning-a-view-versus-a-copy\n",
            "  batch_df[['TLD', 'Domain Name']] = batch_df['Domain'].apply(split_domain_into_keywords).apply(pd.Series)\n"
          ]
        },
        {
          "output_type": "stream",
          "name": "stdout",
          "text": [
            "Processing batch 4\n"
          ]
        },
        {
          "output_type": "stream",
          "name": "stderr",
          "text": [
            "<ipython-input-20-360fd6cfa58a>:39: SettingWithCopyWarning: \n",
            "A value is trying to be set on a copy of a slice from a DataFrame.\n",
            "Try using .loc[row_indexer,col_indexer] = value instead\n",
            "\n",
            "See the caveats in the documentation: https://pandas.pydata.org/pandas-docs/stable/user_guide/indexing.html#returning-a-view-versus-a-copy\n",
            "  batch_df[['TLD', 'Domain Name']] = batch_df['Domain'].apply(split_domain_into_keywords).apply(pd.Series)\n",
            "<ipython-input-20-360fd6cfa58a>:39: SettingWithCopyWarning: \n",
            "A value is trying to be set on a copy of a slice from a DataFrame.\n",
            "Try using .loc[row_indexer,col_indexer] = value instead\n",
            "\n",
            "See the caveats in the documentation: https://pandas.pydata.org/pandas-docs/stable/user_guide/indexing.html#returning-a-view-versus-a-copy\n",
            "  batch_df[['TLD', 'Domain Name']] = batch_df['Domain'].apply(split_domain_into_keywords).apply(pd.Series)\n"
          ]
        },
        {
          "output_type": "stream",
          "name": "stdout",
          "text": [
            "Processing batch 5\n"
          ]
        },
        {
          "output_type": "stream",
          "name": "stderr",
          "text": [
            "<ipython-input-20-360fd6cfa58a>:39: SettingWithCopyWarning: \n",
            "A value is trying to be set on a copy of a slice from a DataFrame.\n",
            "Try using .loc[row_indexer,col_indexer] = value instead\n",
            "\n",
            "See the caveats in the documentation: https://pandas.pydata.org/pandas-docs/stable/user_guide/indexing.html#returning-a-view-versus-a-copy\n",
            "  batch_df[['TLD', 'Domain Name']] = batch_df['Domain'].apply(split_domain_into_keywords).apply(pd.Series)\n",
            "<ipython-input-20-360fd6cfa58a>:39: SettingWithCopyWarning: \n",
            "A value is trying to be set on a copy of a slice from a DataFrame.\n",
            "Try using .loc[row_indexer,col_indexer] = value instead\n",
            "\n",
            "See the caveats in the documentation: https://pandas.pydata.org/pandas-docs/stable/user_guide/indexing.html#returning-a-view-versus-a-copy\n",
            "  batch_df[['TLD', 'Domain Name']] = batch_df['Domain'].apply(split_domain_into_keywords).apply(pd.Series)\n"
          ]
        },
        {
          "output_type": "stream",
          "name": "stdout",
          "text": [
            "Processing batch 6\n"
          ]
        },
        {
          "output_type": "stream",
          "name": "stderr",
          "text": [
            "<ipython-input-20-360fd6cfa58a>:39: SettingWithCopyWarning: \n",
            "A value is trying to be set on a copy of a slice from a DataFrame.\n",
            "Try using .loc[row_indexer,col_indexer] = value instead\n",
            "\n",
            "See the caveats in the documentation: https://pandas.pydata.org/pandas-docs/stable/user_guide/indexing.html#returning-a-view-versus-a-copy\n",
            "  batch_df[['TLD', 'Domain Name']] = batch_df['Domain'].apply(split_domain_into_keywords).apply(pd.Series)\n",
            "<ipython-input-20-360fd6cfa58a>:39: SettingWithCopyWarning: \n",
            "A value is trying to be set on a copy of a slice from a DataFrame.\n",
            "Try using .loc[row_indexer,col_indexer] = value instead\n",
            "\n",
            "See the caveats in the documentation: https://pandas.pydata.org/pandas-docs/stable/user_guide/indexing.html#returning-a-view-versus-a-copy\n",
            "  batch_df[['TLD', 'Domain Name']] = batch_df['Domain'].apply(split_domain_into_keywords).apply(pd.Series)\n"
          ]
        },
        {
          "output_type": "stream",
          "name": "stdout",
          "text": [
            "Processing batch 7\n"
          ]
        },
        {
          "output_type": "stream",
          "name": "stderr",
          "text": [
            "<ipython-input-20-360fd6cfa58a>:39: SettingWithCopyWarning: \n",
            "A value is trying to be set on a copy of a slice from a DataFrame.\n",
            "Try using .loc[row_indexer,col_indexer] = value instead\n",
            "\n",
            "See the caveats in the documentation: https://pandas.pydata.org/pandas-docs/stable/user_guide/indexing.html#returning-a-view-versus-a-copy\n",
            "  batch_df[['TLD', 'Domain Name']] = batch_df['Domain'].apply(split_domain_into_keywords).apply(pd.Series)\n",
            "<ipython-input-20-360fd6cfa58a>:39: SettingWithCopyWarning: \n",
            "A value is trying to be set on a copy of a slice from a DataFrame.\n",
            "Try using .loc[row_indexer,col_indexer] = value instead\n",
            "\n",
            "See the caveats in the documentation: https://pandas.pydata.org/pandas-docs/stable/user_guide/indexing.html#returning-a-view-versus-a-copy\n",
            "  batch_df[['TLD', 'Domain Name']] = batch_df['Domain'].apply(split_domain_into_keywords).apply(pd.Series)\n"
          ]
        },
        {
          "output_type": "stream",
          "name": "stdout",
          "text": [
            "Processing batch 8\n"
          ]
        },
        {
          "output_type": "stream",
          "name": "stderr",
          "text": [
            "<ipython-input-20-360fd6cfa58a>:39: SettingWithCopyWarning: \n",
            "A value is trying to be set on a copy of a slice from a DataFrame.\n",
            "Try using .loc[row_indexer,col_indexer] = value instead\n",
            "\n",
            "See the caveats in the documentation: https://pandas.pydata.org/pandas-docs/stable/user_guide/indexing.html#returning-a-view-versus-a-copy\n",
            "  batch_df[['TLD', 'Domain Name']] = batch_df['Domain'].apply(split_domain_into_keywords).apply(pd.Series)\n",
            "<ipython-input-20-360fd6cfa58a>:39: SettingWithCopyWarning: \n",
            "A value is trying to be set on a copy of a slice from a DataFrame.\n",
            "Try using .loc[row_indexer,col_indexer] = value instead\n",
            "\n",
            "See the caveats in the documentation: https://pandas.pydata.org/pandas-docs/stable/user_guide/indexing.html#returning-a-view-versus-a-copy\n",
            "  batch_df[['TLD', 'Domain Name']] = batch_df['Domain'].apply(split_domain_into_keywords).apply(pd.Series)\n"
          ]
        },
        {
          "output_type": "stream",
          "name": "stdout",
          "text": [
            "                 Domain  TLD  Domain Name\n",
            "0          a-msedge.net  net     a-msedge\n",
            "1           youtube.com  com      youtube\n",
            "2          facebook.com  com     facebook\n",
            "3         microsoft.com  com    microsoft\n",
            "4         amazonaws.com  com    amazonaws\n",
            "...                 ...  ...          ...\n",
            "3039137  black-latte.eu   eu  black-latte\n",
            "3039138     lmd-inc.com  com      lmd-inc\n",
            "3039139        yoow.com  com         yoow\n",
            "3039140        ckie.com  com         ckie\n",
            "3039141      google.com  com       google\n",
            "\n",
            "[3039142 rows x 3 columns]\n"
          ]
        }
      ]
    },
    {
      "cell_type": "code",
      "source": [
        "import pandas as pd\n",
        "\n",
        "# Assuming you already have your dataframe df loaded\n",
        "\n",
        "# Calculate the frequency of each TLD\n",
        "tld_frequency = df['TLD'].value_counts()\n",
        "\n",
        "# Select the top 50 most common TLDs\n",
        "top_50_tld = tld_frequency.head(50)\n",
        "\n",
        "# Convert the result into a list\n",
        "TLD = top_50_tld.index.tolist()\n",
        "\n",
        "# Now TLD contains the top 50 most common TLDs\n",
        "print(TLD)\n"
      ],
      "metadata": {
        "colab": {
          "base_uri": "https://localhost:8080/"
        },
        "id": "93sB-CNqTJ_B",
        "outputId": "845dce4f-2b38-4264-ca8c-a082202ecdab"
      },
      "execution_count": 21,
      "outputs": [
        {
          "output_type": "stream",
          "name": "stdout",
          "text": [
            "['com', 'ru', 'net', 'org', 'de', 'co.uk', 'top', 'com.br', 'info', 'cn', 'nl', 'xyz', 'fr', 'com.au', 'ca', 'it', 'jp', 'io', 'pl', 'co', 'ch', 'dk', 'co.jp', 'eu', 'biz', 'in', 'us', 'ir', 'online', 'se', 'es', 'be', 'cz', 'site', 'at', 'cc', 'club', 'ro', 'com.cn', 'buzz', 'pro', 'com.tr', 'no', 'co.kr', 'fi', 'co.nz', 'tv', 'hu', 'me', 'shop']\n"
          ]
        }
      ]
    },
    {
      "cell_type": "code",
      "source": [
        "import pandas as pd\n",
        "import numpy as np\n",
        "\n",
        "# Assuming you already have your dataframe df2 loaded and you have the variable TLD\n",
        "\n",
        "# Randomly choose a TLD from the TLD list for each domain in Fixed_Segment\n",
        "random_tld = np.random.choice(TLD, size=len(df2))\n",
        "\n",
        "# Concatenate the random TLD to the domain name\n",
        "df2['DGA'] = df2['Fixed_Segment'] + '.' + random_tld\n",
        "df2.drop(columns=[\"Fixed_Segment\"], inplace=True)\n",
        "\n",
        "# Show the first few rows of the resulting dataframe\n",
        "print(df2)\n"
      ],
      "metadata": {
        "colab": {
          "base_uri": "https://localhost:8080/"
        },
        "id": "tGKN6nQ8YlV_",
        "outputId": "4382f2f1-13ac-46a0-d702-af6780c25700"
      },
      "execution_count": 22,
      "outputs": [
        {
          "output_type": "stream",
          "name": "stdout",
          "text": [
            "                DGA\n",
            "0        oopaos.xyz\n",
            "1      eolae.com.br\n",
            "2         ainard.jp\n",
            "3          hmroh.ch\n",
            "4            ail.ir\n",
            "...             ...\n",
            "1995         eis.tv\n",
            "1996  losoah.com.cn\n",
            "1997        afe.top\n",
            "1998           o.cc\n",
            "1999       aees.top\n",
            "\n",
            "[2000 rows x 1 columns]\n"
          ]
        }
      ]
    }
  ]
}