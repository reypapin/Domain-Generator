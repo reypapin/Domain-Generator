{
 "cells": [
  {
   "cell_type": "code",
   "execution_count": null,
   "metadata": {},
   "outputs": [],
   "source": [
    "import pandas as pd\n",
    "import sqlite3\n",
    "\n",
    "# Establecer la conexión con la base de datos\n",
    "conn = sqlite3.connect('argenconsql.db')\n",
    "\n",
    "# Consulta SQL para seleccionar todos los registros de la tabla argencon\n",
    "#query = \"SELECT * FROM argencon\" para seleccionar la tabla entera\n",
    "# Para seleccionar solo las 2 primeras columnas y le cambio el nombre\n",
    "query = \"SELECT field1 AS Dominios, field2 AS Clases FROM argencon\" \n",
    "\n",
    "# Cargar los datos en un DataFrame\n",
    "df = pd.read_sql_query(query, conn)\n",
    "\n",
    "# Cerrar la conexión con la base de datos\n",
    "conn.close()\n",
    "\n",
    "# Ver los primeros registros del DataFrame\n",
    "print(df.head())"
   ]
  },
  {
   "cell_type": "code",
   "execution_count": null,
   "metadata": {},
   "outputs": [],
   "source": [
    "count_dominios = df['Dominios'].count()\n",
    "print(\"Cantidad de elementos no nulos en la columna 'Dominios':\", count_dominios)"
   ]
  },
  {
   "cell_type": "code",
   "execution_count": null,
   "metadata": {},
   "outputs": [],
   "source": [
    "def asignar_dga(row):\n",
    "    if 'dga' in row['Clases'].lower():\n",
    "        return row['Dominios']\n",
    "    else:\n",
    "        return None\n",
    "    \n",
    "def asignar_normal(row):\n",
    "    if 'normal' in row['Clases'].lower():\n",
    "        return row['Dominios']\n",
    "    else:\n",
    "        return None    \n",
    "\n",
    "# Inicializar la columna \"DGA\" con valores vacíos\n",
    "df['DGA'] = ''\n",
    "df['Normal'] = ''\n",
    "\n",
    "# Guardar los valores retornados por la función en la columna \"DGA\"\n",
    "d = 1\n",
    "n = 1\n",
    "for i, row in df.iterrows():\n",
    "    valuedga = asignar_dga(row)\n",
    "    valuenormal = asignar_normal(row)\n",
    "    if valuedga:\n",
    "        df.at[d, 'DGA'] = valuedga\n",
    "        d = d + 1  \n",
    "    if valuenormal:\n",
    "        df.at[n, 'Normal'] = valuenormal\n",
    "        n = n + 1      \n",
    "          \n",
    "# Mostrar el DataFrame resultante\n",
    "#print(df)"
   ]
  },
  {
   "cell_type": "code",
   "execution_count": null,
   "metadata": {},
   "outputs": [],
   "source": [
    "#dga_column = df['DGA']\n",
    "#for i, domain in enumerate(dga_column):\n",
    "#    if len(domain) < 45:\n",
    "#        dga_column[i] = domain + ' ' * (45 - len(domain))\n",
    "#df['DGA_Leng45'] = dga_column\n",
    "\n",
    "normal_column = df['Normal']\n",
    "for i, domain in enumerate(normal_column):\n",
    "    if len(domain) < 45:\n",
    "        normal_column[i] = domain + ' ' * (45 - len(domain))\n",
    "df['Normal_Leng45'] = normal_column"
   ]
  },
  {
   "cell_type": "code",
   "execution_count": null,
   "metadata": {},
   "outputs": [],
   "source": [
    "#position = 0  # Posición deseada\n",
    "#domain0 = df.loc[position, 'DGA_Leng45']\n",
    "#length = len(domain0)\n",
    "#print(\"Longitud en la posición\", position, \":\", length)\n",
    "\n",
    "position = 0  # Posición deseada\n",
    "domain0 = df.loc[position, 'Normal_Leng45']\n",
    "length = len(domain0)\n",
    "print(\"Longitud en la posición\", position, \":\", length)"
   ]
  },
  {
   "cell_type": "code",
   "execution_count": null,
   "metadata": {},
   "outputs": [],
   "source": [
    "#text = ' '.join(df['DGA_Leng45'])\n",
    "text = ' '.join(df['Normal_Leng45'].iloc[:215336])"
   ]
  },
  {
   "cell_type": "code",
   "execution_count": null,
   "metadata": {},
   "outputs": [],
   "source": [
    "print(\"Longitud de text:\", len(text))"
   ]
  },
  {
   "cell_type": "code",
   "execution_count": null,
   "metadata": {},
   "outputs": [],
   "source": [
    "chars = sorted(list(set(text)))\n",
    "print(\"Total chars:\", len(chars))"
   ]
  },
  {
   "cell_type": "code",
   "execution_count": null,
   "metadata": {},
   "outputs": [],
   "source": [
    "char_indices = dict((c, i) for i, c in enumerate(chars))\n",
    "indices_char = dict((i, c) for i, c in enumerate(chars))"
   ]
  },
  {
   "cell_type": "code",
   "execution_count": null,
   "metadata": {},
   "outputs": [],
   "source": [
    "maxlen = 45\n",
    "step = 3\n",
    "sentences = []\n",
    "next_chars = []\n",
    "for i in range(0, len(text) - maxlen, step):\n",
    "    sentences.append(text[i : i + maxlen])\n",
    "    next_chars.append(text[i + maxlen])\n",
    "print(\"Number of sequences:\", len(sentences))"
   ]
  },
  {
   "cell_type": "code",
   "execution_count": null,
   "metadata": {},
   "outputs": [],
   "source": [
    "from tensorflow import keras\n",
    "from tensorflow.keras import layers\n",
    "\n",
    "import numpy as np\n",
    "import random  # Módulo para generar números aleatorios \n",
    "import io \n",
    "\n",
    "x = np.zeros((len(sentences), maxlen, len(chars)), dtype=np.bool)\n",
    "y = np.zeros((len(sentences), len(chars)), dtype=np.bool)\n",
    "for i, sentence in enumerate(sentences):\n",
    "    for t, char in enumerate(sentence):\n",
    "        x[i, t, char_indices[char]] = 1\n",
    "    y[i, char_indices[next_chars[i]]] = 1"
   ]
  },
  {
   "cell_type": "code",
   "execution_count": null,
   "metadata": {},
   "outputs": [],
   "source": [
    "sentences"
   ]
  },
  {
   "cell_type": "code",
   "execution_count": null,
   "metadata": {},
   "outputs": [],
   "source": [
    "from tensorflow.keras.optimizers import Adam\n",
    "from tensorflow.keras.layers import LSTM, Conv1D, MaxPooling1D, Flatten\n",
    "\n",
    "# Definir el nuevo modelo con una capa convolucional y una capa LSTM\n",
    "model = keras.Sequential([\n",
    "    keras.Input(shape=(maxlen, len(chars))),\n",
    "    layers.Conv1D(128, kernel_size=3, activation='relu'),  # Capa convolucional\n",
    "    layers.MaxPooling1D(pool_size=2),  # Capa de max pooling opcional para reducir la dimensión\n",
    "    layers.LSTM(128),  # Capa LSTM\n",
    "    layers.Dense(len(chars), activation='softmax')  # Capa densa de salida\n",
    "])\n",
    "\n",
    "# Compilar el modelo con el optimizador Adam y la función de pérdida categorical_crossentropy\n",
    "optimizer = Adam(learning_rate=0.01)\n",
    "model.compile(loss='categorical_crossentropy', optimizer=optimizer)"
   ]
  },
  {
   "cell_type": "code",
   "execution_count": null,
   "metadata": {},
   "outputs": [],
   "source": [
    "def sample(preds, temperature=1.0):\n",
    "    # helper function to sample an index from a probability array\n",
    "    preds = np.asarray(preds).astype(\"float64\")\n",
    "    preds = np.log(preds) / temperature\n",
    "    exp_preds = np.exp(preds)\n",
    "    preds = exp_preds / np.sum(exp_preds)\n",
    "    probas = np.random.multinomial(1, preds, 1)\n",
    "    return np.argmax(probas)\n"
   ]
  },
  {
   "cell_type": "code",
   "execution_count": null,
   "metadata": {},
   "outputs": [],
   "source": [
    "epochs = 20\n",
    "batch_size = 128\n",
    "\n",
    "for epoch in range(epochs):\n",
    "    model.fit(x, y, batch_size=batch_size, epochs=1)\n",
    "    print()\n",
    "    print(\"Generating text after epoch: %d\" % epoch)\n",
    "\n",
    "    start_index = random.randint(0, len(text) - maxlen - 1)\n",
    "    #for diversity in [0.2, 0.5, 1.0, 1.2]:\n",
    "    for diversity in [ 0.5]:\n",
    "        print(\"...Diversity:\", diversity)\n",
    "\n",
    "        generated = \"\"\n",
    "        sentence = text[start_index : start_index + maxlen]\n",
    "        print('...Generating with seed: \"' + sentence + '\"')\n",
    "\n",
    "        for i in range(400):\n",
    "            x_pred = np.zeros((1, maxlen, len(chars)))\n",
    "            for t, char in enumerate(sentence):\n",
    "                x_pred[0, t, char_indices[char]] = 1.0\n",
    "            preds = model.predict(x_pred, verbose=0)[0]\n",
    "            next_index = sample(preds, diversity)\n",
    "            next_char = indices_char[next_index]\n",
    "            sentence = sentence[1:] + next_char\n",
    "            generated += next_char\n",
    "\n",
    "        print(\"...Generated: \", generated)\n",
    "        print()\n"
   ]
  },
  {
   "cell_type": "code",
   "execution_count": null,
   "metadata": {},
   "outputs": [],
   "source": [
    "# Supongamos que tu modelo entrenado está en la variable 'model'\n",
    "model.save('modelo_entrenado.h5')"
   ]
  },
  {
   "cell_type": "code",
   "execution_count": null,
   "metadata": {},
   "outputs": [],
   "source": []
  }
 ],
 "metadata": {
  "kernelspec": {
   "display_name": "Python 3",
   "language": "python",
   "name": "python3"
  },
  "language_info": {
   "codemirror_mode": {
    "name": "ipython",
    "version": 3
   },
   "file_extension": ".py",
   "mimetype": "text/x-python",
   "name": "python",
   "nbconvert_exporter": "python",
   "pygments_lexer": "ipython3",
   "version": "3.8.10"
  }
 },
 "nbformat": 4,
 "nbformat_minor": 2
}
