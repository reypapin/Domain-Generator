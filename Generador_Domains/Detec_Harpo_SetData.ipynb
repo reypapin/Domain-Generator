{
 "cells": [
  {
   "cell_type": "code",
   "execution_count": 6,
   "metadata": {},
   "outputs": [
    {
     "name": "stdout",
     "output_type": "stream",
     "text": [
      "           File  DGA Count       Confusion Matrix  \\\n",
      "0  4kdomain.csv       4000  [[399, 3601], [0, 0]]   \n",
      "\n",
      "                               Classification Report  \n",
      "0                precision    recall  f1-score   ...  \n"
     ]
    },
    {
     "name": "stderr",
     "output_type": "stream",
     "text": [
      "/usr/local/lib/python3.8/dist-packages/sklearn/metrics/_classification.py:1344: UndefinedMetricWarning: Recall and F-score are ill-defined and being set to 0.0 in labels with no true samples. Use `zero_division` parameter to control this behavior.\n",
      "  _warn_prf(average, modifier, msg_start, len(result))\n",
      "/usr/local/lib/python3.8/dist-packages/sklearn/metrics/_classification.py:1344: UndefinedMetricWarning: Recall and F-score are ill-defined and being set to 0.0 in labels with no true samples. Use `zero_division` parameter to control this behavior.\n",
      "  _warn_prf(average, modifier, msg_start, len(result))\n",
      "/usr/local/lib/python3.8/dist-packages/sklearn/metrics/_classification.py:1344: UndefinedMetricWarning: Recall and F-score are ill-defined and being set to 0.0 in labels with no true samples. Use `zero_division` parameter to control this behavior.\n",
      "  _warn_prf(average, modifier, msg_start, len(result))\n"
     ]
    }
   ],
   "source": [
    "import pandas as pd\n",
    "import requests\n",
    "from sklearn.metrics import confusion_matrix\n",
    "from sklearn.metrics import classification_report\n",
    "\n",
    "def process_csv_file(file_path):\n",
    "    # Leer el archivo CSV en un DataFrame\n",
    "    df = pd.read_csv(file_path)\n",
    "\n",
    "    # Obtener los dominios de prueba del DataFrame\n",
    "    data_test = df[\"domain\"]\n",
    "\n",
    "    # Crear una lista vacía para almacenar las predicciones\n",
    "    predictions = []\n",
    "\n",
    "    # URL del servidor donde está alojado el modelo\n",
    "    url = \"http://ns158.ingenieria.uncuyo.edu.ar:8000/predict?domain=\"\n",
    "\n",
    "    # Realizar las solicitudes HTTP y obtener las predicciones\n",
    "    for domain in data_test:\n",
    "        response = requests.get(url + domain)\n",
    "        if response.status_code == 200:\n",
    "            prediction = response.json()['class']\n",
    "            predictions.append(prediction)\n",
    "        else:\n",
    "            print(f\"Error al hacer la predicción para el dominio: {domain}\")\n",
    "\n",
    "    # Crear una nueva columna en el DataFrame para almacenar las predicciones\n",
    "    df['prediction'] = predictions\n",
    "\n",
    "    # Obtener las predicciones y etiquetas del DataFrame\n",
    "    df['class'] = df['class'].replace({1: 'dga', 0: 'normal'})\n",
    "    predictions = df['prediction']\n",
    "    labels = df['class']\n",
    "\n",
    "    # Calcular la matriz de confusión\n",
    "    confusion = confusion_matrix(labels, predictions)\n",
    "\n",
    "    # Calcular el reporte de clasificación que incluye precision, recall, F1-score y support\n",
    "    report = classification_report(labels, predictions)\n",
    "\n",
    "    # Obtener las cuentas de los valores de la clase\n",
    "    counts = labels.value_counts()\n",
    "    dga_count = counts['dga']\n",
    "    #normal_count = counts['normal']\n",
    "\n",
    "    # Crear un DataFrame para almacenar los resultados de las métricas\n",
    "    metrics_df = pd.DataFrame({\n",
    "        'File': [file_path],\n",
    "        'DGA Count': [dga_count],\n",
    "        #'Normal Count': [normal_count],\n",
    "        'Confusion Matrix': [confusion],\n",
    "        'Classification Report': [report]\n",
    "    })\n",
    "\n",
    "    return metrics_df\n",
    "\n",
    "\n",
    "# Ejemplo de uso\n",
    "file_paths = ['4kdomain.csv']#,'bamital.csv','banjori.csv','bedep.csv','conficker.csv','dyre.csv','matsnu.csv','pushdo.csv','ramdo.csv','suppobox.csv']  # Lista de archivos CSV a procesar\n",
    "\n",
    "results = pd.DataFrame()  # DataFrame para almacenar los resultados de las métricas\n",
    "\n",
    "for file_path in file_paths:\n",
    "    metrics = process_csv_file(file_path)\n",
    "    results = pd.concat([results, metrics], ignore_index=True)\n",
    "\n",
    "# Imprimir los resultados\n",
    "print(results)\n",
    "\n"
   ]
  },
  {
   "cell_type": "code",
   "execution_count": null,
   "metadata": {},
   "outputs": [],
   "source": []
  }
 ],
 "metadata": {
  "kernelspec": {
   "display_name": "Python 3",
   "language": "python",
   "name": "python3"
  },
  "language_info": {
   "codemirror_mode": {
    "name": "ipython",
    "version": 3
   },
   "file_extension": ".py",
   "mimetype": "text/x-python",
   "name": "python",
   "nbconvert_exporter": "python",
   "pygments_lexer": "ipython3",
   "version": "3.8.10"
  }
 },
 "nbformat": 4,
 "nbformat_minor": 2
}
