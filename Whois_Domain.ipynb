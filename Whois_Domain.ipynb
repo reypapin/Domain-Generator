{
  "nbformat": 4,
  "nbformat_minor": 0,
  "metadata": {
    "colab": {
      "provenance": [],
      "authorship_tag": "ABX9TyOU/0abOor/WcxYFpbiO4DI",
      "include_colab_link": true
    },
    "kernelspec": {
      "name": "python3",
      "display_name": "Python 3"
    },
    "language_info": {
      "name": "python"
    }
  },
  "cells": [
    {
      "cell_type": "markdown",
      "metadata": {
        "id": "view-in-github",
        "colab_type": "text"
      },
      "source": [
        "<a href=\"https://colab.research.google.com/github/reypapin/Generador-de-Dominios/blob/main/Whois_Domain.ipynb\" target=\"_parent\"><img src=\"https://colab.research.google.com/assets/colab-badge.svg\" alt=\"Open In Colab\"/></a>"
      ]
    },
    {
      "cell_type": "code",
      "execution_count": null,
      "metadata": {
        "id": "nug0mmhMPR1P"
      },
      "outputs": [],
      "source": [
        "import pandas as pd\n",
        "df = pd.read_csv(\"domain_generated.csv\")\n",
        "domain_names = df['DGA'].iloc[0:9999].tolist()\n",
        "\n"
      ]
    },
    {
      "cell_type": "code",
      "source": [
        "import requests\n",
        "\n",
        "# Function to query online WHOIS and determine if the domain is registered\n",
        "def query_whois_and_check_registration(domain, counter):\n",
        "    url = f\"https://www.whois.com/whois/{domain}\"\n",
        "    response = requests.get(url)\n",
        "    if response.status_code == 200:\n",
        "        # Search for a specific phrase in the page content to determine if the domain is registered\n",
        "        if 'Domain Information' in response.text:\n",
        "            #print(f\"The domain {domain} is registered.\")\n",
        "            counter += 1\n",
        "            return True  # Indicates that the domain is registered\n",
        "        else:\n",
        "            #print(f\"The domain {domain} is not registered.\")\n",
        "            return False  # Indicates that the domain is not registered\n",
        "            # You can also print WHOIS information here if desired\n",
        "    else:\n",
        "        print(f\"Error querying WHOIS for the domain {domain}. Status code: {response.status_code}\")\n",
        "        return False  # Indicates that there was an error in the query\n",
        "\n",
        "# Create a list to store the indices of registered domains\n",
        "registered_domain_indices = []\n",
        "\n",
        "# Counter for total domains\n",
        "total_domains = len(domain_names)\n",
        "\n",
        "# Iterate over the domains in the DataFrame and query WHOIS for each one\n",
        "for domain in domain_names:\n",
        "    if query_whois_and_check_registration(domain, 0):\n",
        "        registered_domain_indices.append(domain)\n",
        "\n",
        "# Calculate the number of registered domains and its percentage\n",
        "num_registered_domains = len(registered_domain_indices)\n",
        "percentage_registered = (num_registered_domains / total_domains) * 100\n",
        "\n",
        "# Print results\n",
        "print(f\"Number of registered domains: {num_registered_domains}\")\n",
        "print(f\"Percentage of registered domains relative to the total: {percentage_registered:.2f}%\")\n",
        "\n"
      ],
      "metadata": {
        "colab": {
          "base_uri": "https://localhost:8080/"
        },
        "id": "MWpIKterl7Uy",
        "outputId": "e48bd6e2-cf6b-4a71-e62a-c4fce9811dcf"
      },
      "execution_count": null,
      "outputs": [
        {
          "output_type": "stream",
          "name": "stdout",
          "text": [
            "Número de dominios registrados: 633\n",
            "Porcentaje de dominios registrados respecto al total: 6.33%\n"
          ]
        }
      ]
    }
  ]
}