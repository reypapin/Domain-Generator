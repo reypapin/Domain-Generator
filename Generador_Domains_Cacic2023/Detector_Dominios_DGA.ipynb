{
 "cells": [
  {
   "cell_type": "code",
   "execution_count": null,
   "metadata": {},
   "outputs": [],
   "source": [
    "import pandas as pd\n",
    "import sqlite3\n",
    "\n",
    "# Establecer la conexión con la base de datos\n",
    "conn = sqlite3.connect('argenconsql.db')\n",
    "\n",
    "# Consulta SQL para seleccionar todos los registros de la tabla argencon\n",
    "#query = \"SELECT * FROM argencon\" para seleccionar la tabla entera\n",
    "# Para seleccionar solo las 2 primeras columnas y le cambio el nombre\n",
    "query = \"SELECT field1 AS Dominios, field2 AS Clases FROM argencon\" \n",
    "\n",
    "# Cargar los datos en un DataFrame\n",
    "df = pd.read_sql_query(query, conn)\n",
    "\n",
    "# Cerrar la conexión con la base de datos\n",
    "conn.close()\n",
    "\n",
    "# Ver los primeros registros del DataFrame\n",
    "print(df.head())"
   ]
  },
  {
   "cell_type": "code",
   "execution_count": null,
   "metadata": {},
   "outputs": [],
   "source": [
    "def asignar_dga(row):\n",
    "    if 'dga' in row['Clases'].lower():\n",
    "        return row['Dominios']\n",
    "    else:\n",
    "        return None\n",
    "    \n",
    "def asignar_normal(row):\n",
    "    if 'normal' in row['Clases'].lower():\n",
    "        return row['Dominios']\n",
    "    else:\n",
    "        return None    \n",
    "\n",
    "# Inicializar la columna \"DGA\" con valores vacíos\n",
    "df['DGA'] = ''\n",
    "df['Normal'] = ''\n",
    "\n",
    "# Guardar los valores retornados por la función en la columna \"DGA\"\n",
    "d = 1\n",
    "n = 1\n",
    "for i, row in df.iterrows():\n",
    "    valuedga = asignar_dga(row)\n",
    "    valuenormal = asignar_normal(row)\n",
    "    if valuedga:\n",
    "        df.at[d, 'DGA'] = valuedga\n",
    "        d = d + 1  \n",
    "    if valuenormal:\n",
    "        df.at[n, 'Normal'] = valuenormal\n",
    "        n = n + 1      \n",
    "          \n",
    "# Mostrar el DataFrame resultante\n",
    "print(df)"
   ]
  },
  {
   "cell_type": "code",
   "execution_count": null,
   "metadata": {},
   "outputs": [],
   "source": [
    "df['Labels'] = df['Clases'].apply(lambda x: 1 if 'dga' in x.lower() else 0)\n",
    "def obtener_longitud(dominio):\n",
    "    return len(dominio)\n",
    "\n",
    "# Aplicar la función a cada valor de la columna \"Dominios\" y guardar los resultados en la columna \"Longitud\"\n",
    "df['Longitud'] = df['Dominios'].apply(obtener_longitud)\n",
    "df['Longitud'] = df['Longitud']/100\n",
    "print(df)"
   ]
  },
  {
   "cell_type": "code",
   "execution_count": null,
   "metadata": {},
   "outputs": [],
   "source": [
    "import string\n",
    "\n",
    "alfabeto = string.ascii_letters + \"0123456789-._Ññ\"\n",
    "print(alfabeto)\n"
   ]
  },
  {
   "cell_type": "code",
   "execution_count": null,
   "metadata": {},
   "outputs": [],
   "source": [
    "# Crear 45 nuevas columnas llenas de 67\n",
    "for i in range(45):\n",
    "    columna = f'Tok{i}'  # Nombre de la columna\n",
    "    df[columna] = 0.67  # Asignar el valor 67 a la columna\n",
    "\n",
    "# Mostrar el DataFrame resultante\n",
    "print(df)"
   ]
  },
  {
   "cell_type": "code",
   "execution_count": null,
   "metadata": {},
   "outputs": [],
   "source": [
    "for i, dominio in enumerate(df['Dominios']):\n",
    "    for j, caracter in enumerate(dominio):\n",
    "        if j >= 45:\n",
    "            break  # Salir del bucle si ya se alcanzó la longitud máxima de 45\n",
    "\n",
    "        columna = f'Tok{j}'  # Nombre de la columna correspondiente al carácter\n",
    "        valor = alfabeto.index(caracter) if caracter in alfabeto else -1  # Obtener el valor según la posición en el alfabeto o -1 si no está en el alfabeto\n",
    "        df.at[i, columna] = valor / 100  # Asignar el valor a la celda correspondiente en el DataFrame\n",
    "\n",
    "# Mostrar el DataFrame resultante\n",
    "print(df)"
   ]
  },
  {
   "cell_type": "code",
   "execution_count": null,
   "metadata": {},
   "outputs": [],
   "source": [
    "from sklearn.model_selection import train_test_split\n",
    "\n",
    "# Seleccionar las columnas necesarias para el entrenamiento y prueba\n",
    "columns =  ['Longitud'] + [f'Tok{i}' for i in range(0, 45)] + ['Labels']\n",
    "data = df[columns]\n",
    "\n",
    "# Dividir los datos en conjunto de entrenamiento y prueba\n",
    "train_data, test_data, train_labels, test_labels = train_test_split(\n",
    "    data.drop('Labels', axis=1),\n",
    "    data['Labels'],\n",
    "    test_size=0.3,\n",
    "    random_state=42\n",
    ")\n",
    "\n",
    "# Verificar los tamaños de los conjuntos\n",
    "print(\"Tamaño del conjunto de entrenamiento:\", len(train_data))\n",
    "print(\"Tamaño del conjunto de prueba:\", len(test_data))\n",
    "\n",
    "# Mostrar el conjunto de entrenamiento\n",
    "print(\"Conjunto de entrenamiento:\")\n",
    "print(train_data)\n",
    "\n",
    "# Mostrar el conjunto de prueba\n",
    "print(\"Conjunto de prueba:\")\n",
    "print(test_data)\n",
    "\n",
    "# Mostrar las etiquetas de entrenamiento\n",
    "print(\"Etiquetas de entrenamiento:\")\n",
    "print(train_labels)\n",
    "\n",
    "# Mostrar las etiquetas de prueba\n",
    "print(\"Etiquetas de prueba:\")\n",
    "print(test_labels)\n",
    "\n"
   ]
  },
  {
   "cell_type": "code",
   "execution_count": null,
   "metadata": {},
   "outputs": [],
   "source": [
    "from tensorflow.keras.models import Sequential\n",
    "from tensorflow.keras.layers import LSTM, Dense\n",
    "\n",
    "timesteps = 46  # Número de pasos de tiempo\n",
    "features = 1  # Número de características\n",
    "\n",
    "# Definir la arquitectura del modelo\n",
    "model = Sequential()\n",
    "model.add(LSTM(units=64, input_shape=(timesteps, features)))\n",
    "model.add(Dense(units=64, activation='relu'))\n",
    "model.add(Dense(units=1, activation='sigmoid'))\n",
    "\n",
    "# Compilar el modelo\n",
    "model.compile(loss='binary_crossentropy', optimizer='adam', metrics=['accuracy'])\n",
    "\n",
    "# Entrenar el modelo\n",
    "model.fit(train_data, train_labels, epochs=20, batch_size=32, validation_data=(train_data, train_labels))\n",
    "\n",
    "# Realizar predicciones\n",
    "predictions = model.predict(test_data)\n"
   ]
  },
  {
   "cell_type": "code",
   "execution_count": null,
   "metadata": {},
   "outputs": [],
   "source": [
    "import numpy as np\n",
    "predictions = model.predict(test_data)\n",
    "\n",
    "# Convertir las predicciones a valores binarios (0 o 1)\n",
    "binary_predictions = np.round(predictions).flatten()\n",
    "\n",
    "# Calcular la precisión\n",
    "accuracy = np.mean(binary_predictions == test_labels)\n",
    "print(\"Precisión: \", accuracy)"
   ]
  },
  {
   "cell_type": "code",
   "execution_count": null,
   "metadata": {},
   "outputs": [],
   "source": [
    "from sklearn.metrics import accuracy_score, precision_score, recall_score, f1_score, confusion_matrix\n",
    "\n",
    "# Redondear las predicciones a 0 o 1\n",
    "rounded_predictions = np.round(predictions).flatten()\n",
    "\n",
    "# Calcular las métricas de evaluación\n",
    "accuracy = accuracy_score(test_labels, rounded_predictions)\n",
    "precision = precision_score(test_labels, rounded_predictions)\n",
    "recall = recall_score(test_labels, rounded_predictions)\n",
    "f1 = f1_score(test_labels, rounded_predictions)\n",
    "\n",
    "# Calcular la matriz de confusión\n",
    "confusion_mat = confusion_matrix(test_labels, rounded_predictions)\n",
    "\n",
    "# Imprimir las métricas y la matriz de confusión\n",
    "print(\"Accuracy:\", accuracy)\n",
    "print(\"Precision:\", precision)\n",
    "print(\"Recall:\", recall)\n",
    "print(\"F1-Score:\", f1)\n",
    "print(\"Confusion Matrix:\")\n",
    "print(confusion_mat)"
   ]
  },
  {
   "cell_type": "code",
   "execution_count": null,
   "metadata": {},
   "outputs": [],
   "source": [
    "# Supongamos que tu modelo entrenado está en la variable 'model'\n",
    "model.save('modelo_entrenado_detector.h5')"
   ]
  }
 ],
 "metadata": {
  "kernelspec": {
   "display_name": "Python 3",
   "language": "python",
   "name": "python3"
  },
  "language_info": {
   "codemirror_mode": {
    "name": "ipython",
    "version": 3
   },
   "file_extension": ".py",
   "mimetype": "text/x-python",
   "name": "python",
   "nbconvert_exporter": "python",
   "pygments_lexer": "ipython3",
   "version": "3.8.10"
  }
 },
 "nbformat": 4,
 "nbformat_minor": 2
}
